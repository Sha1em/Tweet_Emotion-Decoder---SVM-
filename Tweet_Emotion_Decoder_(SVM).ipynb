{
  "nbformat": 4,
  "nbformat_minor": 0,
  "metadata": {
    "colab": {
      "provenance": []
    },
    "kernelspec": {
      "name": "python3",
      "display_name": "Python 3"
    },
    "language_info": {
      "name": "python"
    }
  },
  "cells": [
    {
      "cell_type": "markdown",
      "source": [
        "# **Tweet_Emotion-Decoder--(SVM)--**😁/😒/😠/😥/😔\n",
        "\n",
        "`Text classification task using SVMs to detect emotions in tweets.`"
      ],
      "metadata": {
        "id": "VnDf-iiY4AXb"
      }
    },
    {
      "cell_type": "markdown",
      "source": [
        "\n",
        "\n",
        "# *   Imports ----- and prelim steps\n",
        "\n",
        "\n"
      ],
      "metadata": {
        "id": "L0zamZp86FjM"
      }
    },
    {
      "cell_type": "code",
      "execution_count": 9,
      "metadata": {
        "id": "TWpjFVmv32_I"
      },
      "outputs": [],
      "source": [
        "# ✅ Step 1: Imports\n",
        "import pandas as pd\n",
        "import numpy as np\n",
        "import re\n",
        "from sklearn.feature_extraction.text import TfidfVectorizer\n",
        "from sklearn.model_selection import train_test_split\n",
        "from sklearn.svm import SVC, LinearSVC\n",
        "from sklearn.preprocessing import LabelEncoder\n",
        "from sklearn.metrics import classification_report, accuracy_score\n",
        "\n"
      ]
    },
    {
      "cell_type": "code",
      "source": [
        "df = pd.read_csv(\"emotions.csv\")\n",
        "df.head()\n"
      ],
      "metadata": {
        "colab": {
          "base_uri": "https://localhost:8080/",
          "height": 206
        },
        "id": "t-7LnAni6BvN",
        "outputId": "855c7f44-5ef0-415b-a5f7-9335f0900bf5"
      },
      "execution_count": 2,
      "outputs": [
        {
          "output_type": "execute_result",
          "data": {
            "text/plain": [
              "                                                text  label\n",
              "0      i just feel really helpless and heavy hearted      4\n",
              "1  ive enjoyed being able to slouch about relax a...      0\n",
              "2  i gave up my internship with the dmrg and am f...      4\n",
              "3                         i dont know i feel so lost      0\n",
              "4  i am a kindergarten teacher and i am thoroughl...      4"
            ],
            "text/html": [
              "\n",
              "  <div id=\"df-3ea594e5-81ae-40a9-aab4-2a73fd819ee6\" class=\"colab-df-container\">\n",
              "    <div>\n",
              "<style scoped>\n",
              "    .dataframe tbody tr th:only-of-type {\n",
              "        vertical-align: middle;\n",
              "    }\n",
              "\n",
              "    .dataframe tbody tr th {\n",
              "        vertical-align: top;\n",
              "    }\n",
              "\n",
              "    .dataframe thead th {\n",
              "        text-align: right;\n",
              "    }\n",
              "</style>\n",
              "<table border=\"1\" class=\"dataframe\">\n",
              "  <thead>\n",
              "    <tr style=\"text-align: right;\">\n",
              "      <th></th>\n",
              "      <th>text</th>\n",
              "      <th>label</th>\n",
              "    </tr>\n",
              "  </thead>\n",
              "  <tbody>\n",
              "    <tr>\n",
              "      <th>0</th>\n",
              "      <td>i just feel really helpless and heavy hearted</td>\n",
              "      <td>4</td>\n",
              "    </tr>\n",
              "    <tr>\n",
              "      <th>1</th>\n",
              "      <td>ive enjoyed being able to slouch about relax a...</td>\n",
              "      <td>0</td>\n",
              "    </tr>\n",
              "    <tr>\n",
              "      <th>2</th>\n",
              "      <td>i gave up my internship with the dmrg and am f...</td>\n",
              "      <td>4</td>\n",
              "    </tr>\n",
              "    <tr>\n",
              "      <th>3</th>\n",
              "      <td>i dont know i feel so lost</td>\n",
              "      <td>0</td>\n",
              "    </tr>\n",
              "    <tr>\n",
              "      <th>4</th>\n",
              "      <td>i am a kindergarten teacher and i am thoroughl...</td>\n",
              "      <td>4</td>\n",
              "    </tr>\n",
              "  </tbody>\n",
              "</table>\n",
              "</div>\n",
              "    <div class=\"colab-df-buttons\">\n",
              "\n",
              "  <div class=\"colab-df-container\">\n",
              "    <button class=\"colab-df-convert\" onclick=\"convertToInteractive('df-3ea594e5-81ae-40a9-aab4-2a73fd819ee6')\"\n",
              "            title=\"Convert this dataframe to an interactive table.\"\n",
              "            style=\"display:none;\">\n",
              "\n",
              "  <svg xmlns=\"http://www.w3.org/2000/svg\" height=\"24px\" viewBox=\"0 -960 960 960\">\n",
              "    <path d=\"M120-120v-720h720v720H120Zm60-500h600v-160H180v160Zm220 220h160v-160H400v160Zm0 220h160v-160H400v160ZM180-400h160v-160H180v160Zm440 0h160v-160H620v160ZM180-180h160v-160H180v160Zm440 0h160v-160H620v160Z\"/>\n",
              "  </svg>\n",
              "    </button>\n",
              "\n",
              "  <style>\n",
              "    .colab-df-container {\n",
              "      display:flex;\n",
              "      gap: 12px;\n",
              "    }\n",
              "\n",
              "    .colab-df-convert {\n",
              "      background-color: #E8F0FE;\n",
              "      border: none;\n",
              "      border-radius: 50%;\n",
              "      cursor: pointer;\n",
              "      display: none;\n",
              "      fill: #1967D2;\n",
              "      height: 32px;\n",
              "      padding: 0 0 0 0;\n",
              "      width: 32px;\n",
              "    }\n",
              "\n",
              "    .colab-df-convert:hover {\n",
              "      background-color: #E2EBFA;\n",
              "      box-shadow: 0px 1px 2px rgba(60, 64, 67, 0.3), 0px 1px 3px 1px rgba(60, 64, 67, 0.15);\n",
              "      fill: #174EA6;\n",
              "    }\n",
              "\n",
              "    .colab-df-buttons div {\n",
              "      margin-bottom: 4px;\n",
              "    }\n",
              "\n",
              "    [theme=dark] .colab-df-convert {\n",
              "      background-color: #3B4455;\n",
              "      fill: #D2E3FC;\n",
              "    }\n",
              "\n",
              "    [theme=dark] .colab-df-convert:hover {\n",
              "      background-color: #434B5C;\n",
              "      box-shadow: 0px 1px 3px 1px rgba(0, 0, 0, 0.15);\n",
              "      filter: drop-shadow(0px 1px 2px rgba(0, 0, 0, 0.3));\n",
              "      fill: #FFFFFF;\n",
              "    }\n",
              "  </style>\n",
              "\n",
              "    <script>\n",
              "      const buttonEl =\n",
              "        document.querySelector('#df-3ea594e5-81ae-40a9-aab4-2a73fd819ee6 button.colab-df-convert');\n",
              "      buttonEl.style.display =\n",
              "        google.colab.kernel.accessAllowed ? 'block' : 'none';\n",
              "\n",
              "      async function convertToInteractive(key) {\n",
              "        const element = document.querySelector('#df-3ea594e5-81ae-40a9-aab4-2a73fd819ee6');\n",
              "        const dataTable =\n",
              "          await google.colab.kernel.invokeFunction('convertToInteractive',\n",
              "                                                    [key], {});\n",
              "        if (!dataTable) return;\n",
              "\n",
              "        const docLinkHtml = 'Like what you see? Visit the ' +\n",
              "          '<a target=\"_blank\" href=https://colab.research.google.com/notebooks/data_table.ipynb>data table notebook</a>'\n",
              "          + ' to learn more about interactive tables.';\n",
              "        element.innerHTML = '';\n",
              "        dataTable['output_type'] = 'display_data';\n",
              "        await google.colab.output.renderOutput(dataTable, element);\n",
              "        const docLink = document.createElement('div');\n",
              "        docLink.innerHTML = docLinkHtml;\n",
              "        element.appendChild(docLink);\n",
              "      }\n",
              "    </script>\n",
              "  </div>\n",
              "\n",
              "\n",
              "    <div id=\"df-cf3a70fa-581f-4d52-bd27-a2cdfe46e43c\">\n",
              "      <button class=\"colab-df-quickchart\" onclick=\"quickchart('df-cf3a70fa-581f-4d52-bd27-a2cdfe46e43c')\"\n",
              "                title=\"Suggest charts\"\n",
              "                style=\"display:none;\">\n",
              "\n",
              "<svg xmlns=\"http://www.w3.org/2000/svg\" height=\"24px\"viewBox=\"0 0 24 24\"\n",
              "     width=\"24px\">\n",
              "    <g>\n",
              "        <path d=\"M19 3H5c-1.1 0-2 .9-2 2v14c0 1.1.9 2 2 2h14c1.1 0 2-.9 2-2V5c0-1.1-.9-2-2-2zM9 17H7v-7h2v7zm4 0h-2V7h2v10zm4 0h-2v-4h2v4z\"/>\n",
              "    </g>\n",
              "</svg>\n",
              "      </button>\n",
              "\n",
              "<style>\n",
              "  .colab-df-quickchart {\n",
              "      --bg-color: #E8F0FE;\n",
              "      --fill-color: #1967D2;\n",
              "      --hover-bg-color: #E2EBFA;\n",
              "      --hover-fill-color: #174EA6;\n",
              "      --disabled-fill-color: #AAA;\n",
              "      --disabled-bg-color: #DDD;\n",
              "  }\n",
              "\n",
              "  [theme=dark] .colab-df-quickchart {\n",
              "      --bg-color: #3B4455;\n",
              "      --fill-color: #D2E3FC;\n",
              "      --hover-bg-color: #434B5C;\n",
              "      --hover-fill-color: #FFFFFF;\n",
              "      --disabled-bg-color: #3B4455;\n",
              "      --disabled-fill-color: #666;\n",
              "  }\n",
              "\n",
              "  .colab-df-quickchart {\n",
              "    background-color: var(--bg-color);\n",
              "    border: none;\n",
              "    border-radius: 50%;\n",
              "    cursor: pointer;\n",
              "    display: none;\n",
              "    fill: var(--fill-color);\n",
              "    height: 32px;\n",
              "    padding: 0;\n",
              "    width: 32px;\n",
              "  }\n",
              "\n",
              "  .colab-df-quickchart:hover {\n",
              "    background-color: var(--hover-bg-color);\n",
              "    box-shadow: 0 1px 2px rgba(60, 64, 67, 0.3), 0 1px 3px 1px rgba(60, 64, 67, 0.15);\n",
              "    fill: var(--button-hover-fill-color);\n",
              "  }\n",
              "\n",
              "  .colab-df-quickchart-complete:disabled,\n",
              "  .colab-df-quickchart-complete:disabled:hover {\n",
              "    background-color: var(--disabled-bg-color);\n",
              "    fill: var(--disabled-fill-color);\n",
              "    box-shadow: none;\n",
              "  }\n",
              "\n",
              "  .colab-df-spinner {\n",
              "    border: 2px solid var(--fill-color);\n",
              "    border-color: transparent;\n",
              "    border-bottom-color: var(--fill-color);\n",
              "    animation:\n",
              "      spin 1s steps(1) infinite;\n",
              "  }\n",
              "\n",
              "  @keyframes spin {\n",
              "    0% {\n",
              "      border-color: transparent;\n",
              "      border-bottom-color: var(--fill-color);\n",
              "      border-left-color: var(--fill-color);\n",
              "    }\n",
              "    20% {\n",
              "      border-color: transparent;\n",
              "      border-left-color: var(--fill-color);\n",
              "      border-top-color: var(--fill-color);\n",
              "    }\n",
              "    30% {\n",
              "      border-color: transparent;\n",
              "      border-left-color: var(--fill-color);\n",
              "      border-top-color: var(--fill-color);\n",
              "      border-right-color: var(--fill-color);\n",
              "    }\n",
              "    40% {\n",
              "      border-color: transparent;\n",
              "      border-right-color: var(--fill-color);\n",
              "      border-top-color: var(--fill-color);\n",
              "    }\n",
              "    60% {\n",
              "      border-color: transparent;\n",
              "      border-right-color: var(--fill-color);\n",
              "    }\n",
              "    80% {\n",
              "      border-color: transparent;\n",
              "      border-right-color: var(--fill-color);\n",
              "      border-bottom-color: var(--fill-color);\n",
              "    }\n",
              "    90% {\n",
              "      border-color: transparent;\n",
              "      border-bottom-color: var(--fill-color);\n",
              "    }\n",
              "  }\n",
              "</style>\n",
              "\n",
              "      <script>\n",
              "        async function quickchart(key) {\n",
              "          const quickchartButtonEl =\n",
              "            document.querySelector('#' + key + ' button');\n",
              "          quickchartButtonEl.disabled = true;  // To prevent multiple clicks.\n",
              "          quickchartButtonEl.classList.add('colab-df-spinner');\n",
              "          try {\n",
              "            const charts = await google.colab.kernel.invokeFunction(\n",
              "                'suggestCharts', [key], {});\n",
              "          } catch (error) {\n",
              "            console.error('Error during call to suggestCharts:', error);\n",
              "          }\n",
              "          quickchartButtonEl.classList.remove('colab-df-spinner');\n",
              "          quickchartButtonEl.classList.add('colab-df-quickchart-complete');\n",
              "        }\n",
              "        (() => {\n",
              "          let quickchartButtonEl =\n",
              "            document.querySelector('#df-cf3a70fa-581f-4d52-bd27-a2cdfe46e43c button');\n",
              "          quickchartButtonEl.style.display =\n",
              "            google.colab.kernel.accessAllowed ? 'block' : 'none';\n",
              "        })();\n",
              "      </script>\n",
              "    </div>\n",
              "\n",
              "    </div>\n",
              "  </div>\n"
            ],
            "application/vnd.google.colaboratory.intrinsic+json": {
              "type": "dataframe",
              "variable_name": "df"
            }
          },
          "metadata": {},
          "execution_count": 2
        }
      ]
    },
    {
      "cell_type": "code",
      "source": [
        "print(df['label'].value_counts())\n"
      ],
      "metadata": {
        "colab": {
          "base_uri": "https://localhost:8080/"
        },
        "id": "r1giy4wr6D9h",
        "outputId": "7f40c1e7-7b02-45f6-86ca-31837f7bb248"
      },
      "execution_count": 3,
      "outputs": [
        {
          "output_type": "stream",
          "name": "stdout",
          "text": [
            "label\n",
            "1    141067\n",
            "0    121187\n",
            "3     57317\n",
            "4     47712\n",
            "2     34554\n",
            "5     14972\n",
            "Name: count, dtype: int64\n"
          ]
        }
      ]
    },
    {
      "cell_type": "markdown",
      "source": [
        "# **Pre-Processing and Training**\n",
        "\n",
        "\n",
        "\n",
        "```\n",
        "since training this huge dataset is gonna take a lotta time..\n",
        "we're gonna resort to various techniques like training on a subset of the\n",
        "dataset and also using linear-svc for linear kernel and stuff.\n",
        "```\n",
        "\n",
        "\n",
        "\n",
        "\n",
        "---\n",
        "\n",
        "\n",
        "\n",
        "---\n",
        "\n"
      ],
      "metadata": {
        "id": "-ZSeOCOw6aKI"
      }
    },
    {
      "cell_type": "code",
      "source": [
        "# ✅ Step 1: imports\n",
        "\n",
        "# ✅ Step 2: Load and Subsample\n",
        "df = pd.read_csv(\"emotions.csv\")\n",
        "df_small = df.sample(n=30000, random_state=42).copy()\n",
        "\n",
        "# ✅ Step 3: Text Cleaning\n",
        "def clean_text(text):\n",
        "    text = text.lower()\n",
        "    text = re.sub(r'[^a-z\\s]', '', text)\n",
        "    return text\n",
        "\n",
        "df_small['clean_text'] = df_small['text'].apply(clean_text)\n",
        "\n",
        "# ✅ Step 4: TF-IDF Vectorization\n",
        "vectorizer = TfidfVectorizer(max_features=3000)\n",
        "X = vectorizer.fit_transform(df_small['clean_text'])\n",
        "\n",
        "# ✅ Step 5: Encode Labels\n",
        "le = LabelEncoder()\n",
        "y = le.fit_transform(df_small['label'])\n",
        "\n",
        "# ✅ Step 6: Train-Test Split\n",
        "X_train, X_test, y_train, y_test = train_test_split(X, y, test_size=0.2, random_state=42)\n",
        "\n",
        "# ✅ Step 7: Train and Compare Kernels\n",
        "kernels = ['linear', 'rbf', 'poly', 'sigmoid']\n",
        "results = {}\n",
        "\n",
        "for kernel in kernels:\n",
        "    print(f\"\\n🔍 Training with kernel = {kernel}\")\n",
        "\n",
        "    if kernel == 'linear':\n",
        "        model = LinearSVC()\n",
        "    else:\n",
        "        model = SVC(kernel=kernel)\n",
        "\n",
        "    model.fit(X_train, y_train)\n",
        "    y_pred = model.predict(X_test)\n",
        "\n",
        "    acc = accuracy_score(y_test, y_pred)\n",
        "    report = classification_report(y_test, y_pred, output_dict=True, target_names=le.classes_)\n",
        "\n",
        "    results[kernel] = {\n",
        "        'model': model,\n",
        "        'accuracy': acc,\n",
        "        'report': report\n",
        "    }\n",
        "\n",
        "    print(f\"✅ Accuracy: {acc:.4f}\")\n",
        "    target_names = [str(c) for c in le.classes_]\n",
        "    print(classification_report(y_test, y_pred, target_names=target_names))\n",
        "\n",
        "\n"
      ],
      "metadata": {
        "colab": {
          "base_uri": "https://localhost:8080/"
        },
        "id": "6fG0IdS46dr9",
        "outputId": "2a0d364f-1821-43d7-cc0b-6ff72c637307"
      },
      "execution_count": 37,
      "outputs": [
        {
          "output_type": "stream",
          "name": "stdout",
          "text": [
            "\n",
            "🔍 Training with kernel = linear\n",
            "✅ Accuracy: 0.8992\n",
            "              precision    recall  f1-score   support\n",
            "\n",
            "           0       0.94      0.94      0.94      1696\n",
            "           1       0.91      0.93      0.92      2068\n",
            "           2       0.80      0.78      0.79       496\n",
            "           3       0.91      0.89      0.90       809\n",
            "           4       0.87      0.85      0.86       701\n",
            "           5       0.77      0.79      0.78       230\n",
            "\n",
            "    accuracy                           0.90      6000\n",
            "   macro avg       0.87      0.86      0.86      6000\n",
            "weighted avg       0.90      0.90      0.90      6000\n",
            "\n",
            "\n",
            "🔍 Training with kernel = rbf\n",
            "✅ Accuracy: 0.8810\n",
            "              precision    recall  f1-score   support\n",
            "\n",
            "           0       0.91      0.94      0.92      1696\n",
            "           1       0.87      0.95      0.91      2068\n",
            "           2       0.84      0.66      0.74       496\n",
            "           3       0.93      0.84      0.88       809\n",
            "           4       0.85      0.83      0.84       701\n",
            "           5       0.81      0.61      0.69       230\n",
            "\n",
            "    accuracy                           0.88      6000\n",
            "   macro avg       0.87      0.80      0.83      6000\n",
            "weighted avg       0.88      0.88      0.88      6000\n",
            "\n",
            "\n",
            "🔍 Training with kernel = poly\n",
            "✅ Accuracy: 0.6772\n",
            "              precision    recall  f1-score   support\n",
            "\n",
            "           0       0.79      0.86      0.82      1696\n",
            "           1       0.58      0.97      0.73      2068\n",
            "           2       0.82      0.13      0.23       496\n",
            "           3       0.93      0.36      0.52       809\n",
            "           4       0.84      0.31      0.46       701\n",
            "           5       0.61      0.11      0.18       230\n",
            "\n",
            "    accuracy                           0.68      6000\n",
            "   macro avg       0.76      0.46      0.49      6000\n",
            "weighted avg       0.74      0.68      0.63      6000\n",
            "\n",
            "\n",
            "🔍 Training with kernel = sigmoid\n",
            "✅ Accuracy: 0.8928\n",
            "              precision    recall  f1-score   support\n",
            "\n",
            "           0       0.92      0.94      0.93      1696\n",
            "           1       0.90      0.94      0.92      2068\n",
            "           2       0.82      0.73      0.77       496\n",
            "           3       0.92      0.87      0.89       809\n",
            "           4       0.85      0.85      0.85       701\n",
            "           5       0.80      0.72      0.76       230\n",
            "\n",
            "    accuracy                           0.89      6000\n",
            "   macro avg       0.87      0.84      0.85      6000\n",
            "weighted avg       0.89      0.89      0.89      6000\n",
            "\n"
          ]
        }
      ]
    },
    {
      "cell_type": "markdown",
      "source": [
        "# **Scores -->  ◻/💯**\n",
        "\n",
        "\n",
        "---\n",
        "\n",
        "\n",
        "\n"
      ],
      "metadata": {
        "id": "YpJ9Jt8jBkaW"
      }
    },
    {
      "cell_type": "code",
      "source": [
        "# ✅ Print Summary Table\n",
        "for kernel in kernels:\n",
        "    acc = results[kernel]['accuracy']\n",
        "    f1 = results[kernel]['report']['macro avg']['f1-score']\n",
        "    print(f\"{kernel.upper():<10} | Accuracy: {acc:.4f} | F1-score: {f1:.4f}\")\n"
      ],
      "metadata": {
        "colab": {
          "base_uri": "https://localhost:8080/"
        },
        "id": "2r1a8Ac6AvDH",
        "outputId": "14006346-6ac4-4fc8-e4ba-de970f0dbce1"
      },
      "execution_count": 38,
      "outputs": [
        {
          "output_type": "stream",
          "name": "stdout",
          "text": [
            "LINEAR     | Accuracy: 0.8992 | F1-score: 0.8646\n",
            "RBF        | Accuracy: 0.8810 | F1-score: 0.8308\n",
            "POLY       | Accuracy: 0.6772 | F1-score: 0.4890\n",
            "SIGMOID    | Accuracy: 0.8928 | F1-score: 0.8535\n"
          ]
        }
      ]
    },
    {
      "cell_type": "markdown",
      "source": [
        "#**Results---->🏁**\n",
        "\n",
        "\n",
        "---\n",
        "\n"
      ],
      "metadata": {
        "id": "ashoG4T9BepO"
      }
    },
    {
      "cell_type": "code",
      "source": [
        "best_kernel = max(results, key=lambda k: results[k]['accuracy'])\n",
        "print(f\"\\n🏆 Best Kernel: {best_kernel}\")\n"
      ],
      "metadata": {
        "colab": {
          "base_uri": "https://localhost:8080/"
        },
        "id": "SW9Z3q7BAyA3",
        "outputId": "3ec1cc13-bc9a-4a02-970d-9cae9eed6bcf"
      },
      "execution_count": 39,
      "outputs": [
        {
          "output_type": "stream",
          "name": "stdout",
          "text": [
            "\n",
            "🏆 Best Kernel: linear\n"
          ]
        }
      ]
    },
    {
      "cell_type": "markdown",
      "source": [
        "# **Visualizations ---- 📊**\n",
        "\n",
        "\n",
        "---\n",
        "\n"
      ],
      "metadata": {
        "id": "Mwjyx3KcCPqG"
      }
    },
    {
      "cell_type": "code",
      "source": [
        "import matplotlib.pyplot as plt\n",
        "\n",
        "# Extract kernels and accuracies\n",
        "kernels = list(results.keys())\n",
        "accuracies = [results[k]['accuracy'] for k in kernels]\n",
        "\n",
        "plt.figure(figsize=(8,5))\n",
        "plt.bar(kernels, accuracies, color='skyblue')\n",
        "plt.title('SVM Kernel Accuracy Comparison')\n",
        "plt.xlabel('Kernel')\n",
        "plt.ylabel('Accuracy')\n",
        "plt.ylim(0, 1)\n",
        "plt.grid(axis='y')\n",
        "plt.show()\n"
      ],
      "metadata": {
        "colab": {
          "base_uri": "https://localhost:8080/",
          "height": 487
        },
        "id": "P-DIP9cqCV-_",
        "outputId": "e56f423e-e03d-479c-c285-a2e07d643783"
      },
      "execution_count": 40,
      "outputs": [
        {
          "output_type": "display_data",
          "data": {
            "text/plain": [
              "<Figure size 800x500 with 1 Axes>"
            ],
            "image/png": "[encoded data removed]"
          },
          "metadata": {}
        }
      ]
    },
    {
      "cell_type": "markdown",
      "source": [
        "# **The metrics for each emotion class individually**\n",
        "\n",
        "\n",
        "---\n",
        "\n"
      ],
      "metadata": {
        "id": "yLypaJXFG8ve"
      }
    },
    {
      "cell_type": "code",
      "source": [
        "for emotion_label in le.classes_:\n",
        "    label = int(emotion_label)  # convert string label to int\n",
        "    metrics = linear_report[label]\n",
        "    print(f\"Emotion {emotion_label}:\")\n",
        "    print(f\"  Precision: {metrics['precision']:.3f}\")\n",
        "    print(f\"  Recall:    {metrics['recall']:.3f}\")\n",
        "    print(f\"  F1-score:  {metrics['f1-score']:.3f}\")\n",
        "    print(f\"  Support:   {metrics['support']}\")\n",
        "    print()\n",
        "\n"
      ],
      "metadata": {
        "colab": {
          "base_uri": "https://localhost:8080/"
        },
        "id": "p9XMyOeMFiJC",
        "outputId": "088854f2-67da-44ac-946f-ef653740223f"
      },
      "execution_count": 41,
      "outputs": [
        {
          "output_type": "stream",
          "name": "stdout",
          "text": [
            "Emotion 0:\n",
            "  Precision: 0.932\n",
            "  Recall:    0.926\n",
            "  F1-score:  0.929\n",
            "  Support:   1175.0\n",
            "\n",
            "Emotion 1:\n",
            "  Precision: 0.893\n",
            "  Recall:    0.924\n",
            "  F1-score:  0.908\n",
            "  Support:   1359.0\n",
            "\n",
            "Emotion 2:\n",
            "  Precision: 0.770\n",
            "  Recall:    0.741\n",
            "  F1-score:  0.756\n",
            "  Support:   321.0\n",
            "\n",
            "Emotion 3:\n",
            "  Precision: 0.895\n",
            "  Recall:    0.883\n",
            "  F1-score:  0.889\n",
            "  Support:   548.0\n",
            "\n",
            "Emotion 4:\n",
            "  Precision: 0.834\n",
            "  Recall:    0.850\n",
            "  F1-score:  0.842\n",
            "  Support:   448.0\n",
            "\n",
            "Emotion 5:\n",
            "  Precision: 0.824\n",
            "  Recall:    0.658\n",
            "  F1-score:  0.731\n",
            "  Support:   149.0\n",
            "\n"
          ]
        }
      ]
    }
  ]
}